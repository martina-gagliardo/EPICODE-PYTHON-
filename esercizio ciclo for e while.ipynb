{
 "cells": [
  {
   "cell_type": "code",
   "execution_count": 5,
   "metadata": {},
   "outputs": [
    {
     "name": "stdout",
     "output_type": "stream",
     "text": [
      "14\n"
     ]
    }
   ],
   "source": [
    "\n",
    "#in questo specifico caso si tratta di una matrice, attraverso la variabile appena scritta, \n",
    "#possiamo trovare l'output attraverso gli indici, il primo indice indica la riga, partendo sempre da 0 , e il secondo\n",
    "#indice indica la colonna partendo sempre da 0\n",
    "\n",
    "\n",
    "mat = [[0, 1, 2, 3, 4], \n",
    "[5, 6, 7, 8, 9], \n",
    "[10, 11, 12, 13, 14]]\n",
    "\n",
    "\n",
    "\n",
    "#elemento = mat[1][3]\n",
    "elemento= mat[2][4]\n",
    "\n",
    "print(elemento)"
   ]
  },
  {
   "cell_type": "code",
   "execution_count": 6,
   "metadata": {},
   "outputs": [
    {
     "name": "stdout",
     "output_type": "stream",
     "text": [
      "-0.5440211108893698\n"
     ]
    }
   ],
   "source": [
    "#Importiamo il modulo math e proviamo a usare le funzioni .sin() .cos() .factorial()\n",
    "\n",
    "import math\n",
    "\n",
    "print(math.sin(10))\n",
    "\n",
    "#La funzione sin è utilizzata per calcolare il seno di un angolo dato in radianti."
   ]
  },
  {
   "cell_type": "code",
   "execution_count": 7,
   "metadata": {},
   "outputs": [
    {
     "name": "stdout",
     "output_type": "stream",
     "text": [
      "0.5403023058681398\n"
     ]
    }
   ],
   "source": [
    "#funzione .cos\n",
    "\n",
    "import math\n",
    "\n",
    "print(math.cos(-1))\n",
    "\n",
    "\n",
    "#La funzione sin è utilizzata per calcolare il seno di un angolo dato in radianti."
   ]
  },
  {
   "cell_type": "code",
   "execution_count": 8,
   "metadata": {},
   "outputs": [
    {
     "name": "stdout",
     "output_type": "stream",
     "text": [
      "6\n"
     ]
    }
   ],
   "source": [
    "#funzione .factorial \n",
    "\n",
    "import math \n",
    "\n",
    "print(math.factorial(3))\n",
    "\n",
    "#La funzione factorial nella libreria math di Python viene utilizzata \n",
    "# per calcolare il fattoriale di un numero intero non negativo. 3x2x1 = 6"
   ]
  },
  {
   "cell_type": "code",
   "execution_count": 10,
   "metadata": {},
   "outputs": [
    {
     "name": "stdout",
     "output_type": "stream",
     "text": [
      "3.141592653589793\n"
     ]
    }
   ],
   "source": [
    "# la variabile .pi\n",
    "\n",
    "#La funzione pi nella libreria math di Python non è propriamente una funzione,\n",
    "#ma una costante che rappresenta il valore di π (pi greco), che è approssimativamente 3.14159\n",
    "\n",
    "import math\n",
    "\n",
    "print(math.pi)"
   ]
  },
  {
   "cell_type": "code",
   "execution_count": 15,
   "metadata": {},
   "outputs": [
    {
     "name": "stdout",
     "output_type": "stream",
     "text": [
      "509.9324376664327\n"
     ]
    }
   ],
   "source": [
    "#La funzione degrees nella libreria math di Python viene utilizzata per convertire un angolo da radianti a gradi\n",
    "\n",
    "import math\n",
    "\n",
    "math.degrees(math.pi)\n",
    "\n",
    "print(math.degrees(8.90))\n",
    "\n",
    "#print(math.degrees(8.90))\n",
    "\n"
   ]
  },
  {
   "cell_type": "code",
   "execution_count": 30,
   "metadata": {},
   "outputs": [
    {
     "name": "stdout",
     "output_type": "stream",
     "text": [
      "8150\n",
      "1280\n",
      "le vendite maggiori di 4999: [5500 7200 6410 8150 7100 5350]\n",
      "in totale sono: 6\n",
      "le vendite minori di 3000: [2000 1280 1900 2500]\n",
      "4634.166666666667\n"
     ]
    }
   ],
   "source": [
    "lst = [2000, 5500, 7200, 4320, 1280, 1900, 2500, 3900, 6410, 8150, 7100, 5350]\n",
    "\n",
    "import numpy as np\n",
    "\n",
    "my_array = np.array(lst)\n",
    "\n",
    "\n",
    "#qual è stata la vendita massima mensile? E quella minima? \n",
    "print(my_array.max())\n",
    "print(my_array.min())\n",
    "\n",
    "#• quali sono le vendite mensili maggiori di 4999 oggetti? E quante ne sono? \n",
    "\n",
    "vendite_mensili_4999 = my_array[my_array>4999]\n",
    "\n",
    "print(\"le vendite maggiori di 4999:\", vendite_mensili_4999 )\n",
    "\n",
    "vendite_mensili_4999= len(vendite_mensili_4999)\n",
    "\n",
    "print(\"in totale sono:\" ,vendite_mensili_4999)\n",
    "\n",
    "#• quali sono le vendite minori di 3000 oggetti?\n",
    "\n",
    "vendite_mensili_3000 = my_array[my_array<3000]\n",
    "print(\"le vendite minori di 3000:\", vendite_mensili_3000)\n",
    "\n",
    "# in media quanti oggetti sono stati venduti al mese?\n",
    "print(my_array.mean())\n",
    "\n",
    "\n"
   ]
  },
  {
   "cell_type": "code",
   "execution_count": 35,
   "metadata": {},
   "outputs": [
    {
     "name": "stdout",
     "output_type": "stream",
     "text": [
      "Il fatturato del 2001: 25000\n",
      "Fatturato del 1997: 12000\n"
     ]
    }
   ],
   "source": [
    "fatturati_dict = {1997: 12_000, 1998: 15_000, 1999: 20_000, 2000: 23_000,\n",
    "            2001: 25_000, 2002: 17_000,\n",
    "            2003: 14_000, 2004: 21_000}\n",
    "\n",
    "fatturato_2001= fatturati_dict[2001]   #per accedere ai dizionari \n",
    "print(\"Il fatturato del 2001:\", fatturato_2001)\n",
    "\n",
    "\n",
    "fatturati_series = pd.Series([12_000, 15_000, 20_000, 23_000, 25_000, 17_000, 14_000, 21_000], index=range(1997, 2005))\n",
    "\n",
    "fatturato_1997 = fatturati_series[1997] \n",
    "print(f\"Fatturato del 1997: {fatturato_1997}\") #si usa \"f\" per inserire in un print , più stringhe e/o espressioni"
   ]
  },
  {
   "cell_type": "code",
   "execution_count": 1,
   "metadata": {},
   "outputs": [
    {
     "name": "stdout",
     "output_type": "stream",
     "text": [
      "[ 200  400  600  800 1000 1200 1400 1600 1800 2000]\n",
      "[ 200  400  600  800 1000 1200 1400 1600 1800 2000]\n"
     ]
    }
   ],
   "source": [
    "import numpy as np \n",
    "\n",
    "stipendi = np.array( [100, 200, 300, 400, 500,  600, 700, 800, 900, 1000] )\n",
    "\n",
    "# Lista di esempio con valori da raddoppiare\n",
    "stipendi = np.array( [100, 200, 300, 400, 500,  600, 700, 800, 900, 1000] )\n",
    "\n",
    "\n",
    "# Usando un ciclo for per raddoppiare i valori\n",
    "for i in range(len(stipendi)):  # Itera sugli indici della lista\n",
    "   stipendi[i] = stipendi[i] * 2  # Raddoppia il valore corrente\n",
    "\n",
    "# Stampa la lista modificata\n",
    "print(stipendi) \n",
    "\n",
    "\n",
    "\n",
    "#con il masking invece è così\n",
    "stipendi = np.array( [100, 200, 300, 400, 500,  600, 700, 800, 900, 1000] )\n",
    "\n",
    "print(stipendi*2)"
   ]
  },
  {
   "cell_type": "markdown",
   "metadata": {},
   "source": []
  },
  {
   "cell_type": "code",
   "execution_count": null,
   "metadata": {},
   "outputs": [],
   "source": []
  }
 ],
 "metadata": {
  "kernelspec": {
   "display_name": "Python 3",
   "language": "python",
   "name": "python3"
  },
  "language_info": {
   "codemirror_mode": {
    "name": "ipython",
    "version": 3
   },
   "file_extension": ".py",
   "mimetype": "text/x-python",
   "name": "python",
   "nbconvert_exporter": "python",
   "pygments_lexer": "ipython3",
   "version": "3.12.3"
  }
 },
 "nbformat": 4,
 "nbformat_minor": 2
}
