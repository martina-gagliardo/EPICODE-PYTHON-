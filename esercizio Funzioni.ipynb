{
 "cells": [
  {
   "cell_type": "code",
   "execution_count": 4,
   "metadata": {},
   "outputs": [],
   "source": [
    "import dotenv\n",
    "import os\n",
    "from sqlalchemy import create_engine\n",
    "import pandas as pd\n",
    "\n",
    "username=os.getenv(\"db_username\")\n",
    "password=os.getenv(\"db_password\")\n",
    "host=os.getenv(\"db_host\")\n",
    "db_name=os.getenv(\"dbname\")\n",
    "\n",
    "dotenv.load_dotenv()\n",
    "conn_string = f\"mysql+pymysql://{username}:{password}@{host}/{db_name}\"\n",
    "db_engine = create_engine(conn_string)\n",
    "\n",
    "\n",
    "query = \"\"\" SELECT *\n",
    "        FROM dimproduct\n",
    "        \n",
    "        \"\"\"\n",
    "\n",
    "df = pd.read_sql(query, db_engine)"
   ]
  },
  {
   "cell_type": "code",
   "execution_count": 5,
   "metadata": {},
   "outputs": [
    {
     "data": {
      "text/plain": [
       "(606, 36)"
      ]
     },
     "execution_count": 5,
     "metadata": {},
     "output_type": "execute_result"
    }
   ],
   "source": [
    "#Quanti dati ci sono in totale\n",
    "\n",
    "df.shape"
   ]
  },
  {
   "cell_type": "code",
   "execution_count": 6,
   "metadata": {},
   "outputs": [
    {
     "data": {
      "text/plain": [
       "<bound method DataFrame.info of      ProductKey ProductAlternateKey  ProductSubcategoryKey  \\\n",
       "0             1             AR-5381                    NaN   \n",
       "1             2             BA-8327                    NaN   \n",
       "2             3             BE-2349                    NaN   \n",
       "3             4             BE-2908                    NaN   \n",
       "4             5             BL-2036                    NaN   \n",
       "..          ...                 ...                    ...   \n",
       "601         602             BB-8107                    5.0   \n",
       "602         603             BB-9108                    5.0   \n",
       "603         604          BK-R19B-44                    2.0   \n",
       "604         605          BK-R19B-48                    2.0   \n",
       "605         606          BK-R19B-52                    2.0   \n",
       "\n",
       "    WeightUnitMeasureCode SizeUnitMeasureCode     EnglishProductName  \\\n",
       "0                    None                None        Adjustable Race   \n",
       "1                    None                None           Bearing Ball   \n",
       "2                    None                None        BB Ball Bearing   \n",
       "3                    None                None  Headset Ball Bearings   \n",
       "4                    None                None                  Blade   \n",
       "..                    ...                 ...                    ...   \n",
       "601                     G                None      ML Bottom Bracket   \n",
       "602                     G                None      HL Bottom Bracket   \n",
       "603                    LB                  CM     Road-750 Black, 44   \n",
       "604                    LB                  CM     Road-750 Black, 48   \n",
       "605                    LB                  CM     Road-750 Black, 52   \n",
       "\n",
       "            SpanishProductName           FrenchProductName  StandardCost  \\\n",
       "0                                                                    NaN   \n",
       "1                                                                    NaN   \n",
       "2                                                                    NaN   \n",
       "3                                                                    NaN   \n",
       "4                                                                    NaN   \n",
       "..                         ...                         ...           ...   \n",
       "601         Eje de pedalier GM          Axe de pédalier ML         44.95   \n",
       "602         Eje de pedalier GA          Axe de pédalier HL         53.94   \n",
       "603  Carretera: 750, negra, 44  Vélo de route 750 noir, 44        343.65   \n",
       "604  Carretera: 750, negra, 48  Vélo de route 750 noir, 48        343.65   \n",
       "605  Carretera: 750, negra, 52  Vélo de route 750 noir, 52        343.65   \n",
       "\n",
       "     FinishedGoodsFlag  ...                 ChineseDescription  \\\n",
       "0                    0  ...                               None   \n",
       "1                    0  ...                               None   \n",
       "2                    0  ...                               None   \n",
       "3                    0  ...                               None   \n",
       "4                    0  ...                               None   \n",
       "..                 ...  ...                                ...   \n",
       "601                  1  ...                      铝合金车圈；大直径脚蹬轴。   \n",
       "602                  1  ...                         铝合金车圈和空心轴。   \n",
       "603                  1  ...  入门级成人自行车；确保越野旅行或公路骑乘的舒适。快拆式车毂和轮缘。   \n",
       "604                  1  ...  入门级成人自行车；确保越野旅行或公路骑乘的舒适。快拆式车毂和轮缘。   \n",
       "605                  1  ...  入门级成人自行车；确保越野旅行或公路骑乘的舒适。快拆式车毂和轮缘。   \n",
       "\n",
       "                                     ArabicDescription  \\\n",
       "0                                                 None   \n",
       "1                                                 None   \n",
       "2                                                 None   \n",
       "3                                                 None   \n",
       "4                                                 None   \n",
       "..                                                 ...   \n",
       "601  فناجين من سبيكة الألومنيوم؛ ذات محور دوران كبي...   \n",
       "602             فناجين من سبيكة الألومنيوم ومحور أجوف.   \n",
       "603  إنها دراجة مناسبة للمبتدئين من البالغين؛ فهي ت...   \n",
       "604  إنها دراجة مناسبة للمبتدئين من البالغين؛ فهي ت...   \n",
       "605  إنها دراجة مناسبة للمبتدئين من البالغين؛ فهي ت...   \n",
       "\n",
       "                                     HebrewDescription  \\\n",
       "0                                                 None   \n",
       "1                                                 None   \n",
       "2                                                 None   \n",
       "3                                                 None   \n",
       "4                                                 None   \n",
       "..                                                 ...   \n",
       "601           כיסויים מסגסוגת אלומיניום; ציר רחב-קוטר.   \n",
       "602               כיסויים מסגסוגת אלומיניום וציר חלול.   \n",
       "603  אופני מבוגרים למתחילים; מציעים רכיבה נוחה \"מחו...   \n",
       "604  אופני מבוגרים למתחילים; מציעים רכיבה נוחה \"מחו...   \n",
       "605  אופני מבוגרים למתחילים; מציעים רכיבה נוחה \"מחו...   \n",
       "\n",
       "                                       ThaiDescription  \\\n",
       "0                                                 None   \n",
       "1                                                 None   \n",
       "2                                                 None   \n",
       "3                                                 None   \n",
       "4                                                 None   \n",
       "..                                                 ...   \n",
       "601              ดุมอลูมิเนียมอัลลอยด์ แกนเพลาขนาดใหญ่   \n",
       "602                   ดุมอลูมิเนียมอัลลอยด์และเพลากลวง   \n",
       "603  จักรยานระดับเริ่มต้นสำหรับผู้ใหญ่ ให้ความสบายใ...   \n",
       "604  จักรยานระดับเริ่มต้นสำหรับผู้ใหญ่ ให้ความสบายใ...   \n",
       "605  จักรยานระดับเริ่มต้นสำหรับผู้ใหญ่ ให้ความสบายใ...   \n",
       "\n",
       "                                     GermanDescription  \\\n",
       "0                                                 None   \n",
       "1                                                 None   \n",
       "2                                                 None   \n",
       "3                                                 None   \n",
       "4                                                 None   \n",
       "..                                                 ...   \n",
       "601  Außenringe aus Aluminiumlegierung; Radachse mi...   \n",
       "602  Außenringe aus Aluminiumlegierung und hohle Ac...   \n",
       "603  Ein Erwachsenenrad für Einsteiger; bietet Komf...   \n",
       "604  Ein Erwachsenenrad für Einsteiger; bietet Komf...   \n",
       "605  Ein Erwachsenenrad für Einsteiger; bietet Komf...   \n",
       "\n",
       "                                   JapaneseDescription  \\\n",
       "0                                                 None   \n",
       "1                                                 None   \n",
       "2                                                 None   \n",
       "3                                                 None   \n",
       "4                                                 None   \n",
       "..                                                 ...   \n",
       "601                               アルミニウム合金カップ、大径スピンドル。   \n",
       "602                              アルミニウム合金カップとホロー アクスル。   \n",
       "603  エントリー レベルに対応する、クロスカントリーにも街への買い物にも快適な、大人の自転車。ハブ...   \n",
       "604  エントリー レベルに対応する、クロスカントリーにも街への買い物にも快適な、大人の自転車。ハブ...   \n",
       "605  エントリー レベルに対応する、クロスカントリーにも街への買い物にも快適な、大人の自転車。ハブ...   \n",
       "\n",
       "                                    TurkishDescription  StartDate EndDate  \\\n",
       "0                                                 None 2003-07-01     NaT   \n",
       "1                                                 None 2003-07-01     NaT   \n",
       "2                                                 None 2003-07-01     NaT   \n",
       "3                                                 None 2003-07-01     NaT   \n",
       "4                                                 None 2003-07-01     NaT   \n",
       "..                                                 ...        ...     ...   \n",
       "601  Alüminyum alaşımı orta göbekler; geniş çaplı mil. 2013-07-01     NaT   \n",
       "602    Alüminyum alaşımı orta göbekler ve içi boş aks. 2013-07-01     NaT   \n",
       "603  \"Başlangıç seviyesinde yetişkin bisikleti, kır... 2013-07-01     NaT   \n",
       "604  \"Başlangıç seviyesinde yetişkin bisikleti, kır... 2013-07-01     NaT   \n",
       "605  \"Başlangıç seviyesinde yetişkin bisikleti, kır... 2013-07-01     NaT   \n",
       "\n",
       "      Status  \n",
       "0    Current  \n",
       "1    Current  \n",
       "2    Current  \n",
       "3    Current  \n",
       "4    Current  \n",
       "..       ...  \n",
       "601  Current  \n",
       "602  Current  \n",
       "603  Current  \n",
       "604  Current  \n",
       "605  Current  \n",
       "\n",
       "[606 rows x 36 columns]>"
      ]
     },
     "execution_count": 6,
     "metadata": {},
     "output_type": "execute_result"
    }
   ],
   "source": [
    "#Quali sono i metadati?\n",
    "\n",
    "df.info"
   ]
  },
  {
   "cell_type": "code",
   "execution_count": null,
   "metadata": {},
   "outputs": [],
   "source": [
    "#Stampiamo il primo elemento\n",
    "#oppure si può scrivere anche in questa maniera\n",
    "#df.iloc[0]\n",
    "\n",
    "df.head(1)\n"
   ]
  },
  {
   "cell_type": "code",
   "execution_count": 7,
   "metadata": {},
   "outputs": [
    {
     "data": {
      "text/html": [
       "<div>\n",
       "<style scoped>\n",
       "    .dataframe tbody tr th:only-of-type {\n",
       "        vertical-align: middle;\n",
       "    }\n",
       "\n",
       "    .dataframe tbody tr th {\n",
       "        vertical-align: top;\n",
       "    }\n",
       "\n",
       "    .dataframe thead th {\n",
       "        text-align: right;\n",
       "    }\n",
       "</style>\n",
       "<table border=\"1\" class=\"dataframe\">\n",
       "  <thead>\n",
       "    <tr style=\"text-align: right;\">\n",
       "      <th></th>\n",
       "      <th>ProductKey</th>\n",
       "      <th>ProductAlternateKey</th>\n",
       "      <th>ProductSubcategoryKey</th>\n",
       "      <th>WeightUnitMeasureCode</th>\n",
       "      <th>SizeUnitMeasureCode</th>\n",
       "      <th>EnglishProductName</th>\n",
       "      <th>SpanishProductName</th>\n",
       "      <th>FrenchProductName</th>\n",
       "      <th>StandardCost</th>\n",
       "      <th>FinishedGoodsFlag</th>\n",
       "      <th>...</th>\n",
       "      <th>ChineseDescription</th>\n",
       "      <th>ArabicDescription</th>\n",
       "      <th>HebrewDescription</th>\n",
       "      <th>ThaiDescription</th>\n",
       "      <th>GermanDescription</th>\n",
       "      <th>JapaneseDescription</th>\n",
       "      <th>TurkishDescription</th>\n",
       "      <th>StartDate</th>\n",
       "      <th>EndDate</th>\n",
       "      <th>Status</th>\n",
       "    </tr>\n",
       "  </thead>\n",
       "  <tbody>\n",
       "    <tr>\n",
       "      <th>605</th>\n",
       "      <td>606</td>\n",
       "      <td>BK-R19B-52</td>\n",
       "      <td>2.0</td>\n",
       "      <td>LB</td>\n",
       "      <td>CM</td>\n",
       "      <td>Road-750 Black, 52</td>\n",
       "      <td>Carretera: 750, negra, 52</td>\n",
       "      <td>Vélo de route 750 noir, 52</td>\n",
       "      <td>343.65</td>\n",
       "      <td>1</td>\n",
       "      <td>...</td>\n",
       "      <td>入门级成人自行车；确保越野旅行或公路骑乘的舒适。快拆式车毂和轮缘。</td>\n",
       "      <td>إنها دراجة مناسبة للمبتدئين من البالغين؛ فهي ت...</td>\n",
       "      <td>אופני מבוגרים למתחילים; מציעים רכיבה נוחה \"מחו...</td>\n",
       "      <td>จักรยานระดับเริ่มต้นสำหรับผู้ใหญ่ ให้ความสบายใ...</td>\n",
       "      <td>Ein Erwachsenenrad für Einsteiger; bietet Komf...</td>\n",
       "      <td>エントリー レベルに対応する、クロスカントリーにも街への買い物にも快適な、大人の自転車。ハブ...</td>\n",
       "      <td>\"Başlangıç seviyesinde yetişkin bisikleti, kır...</td>\n",
       "      <td>2013-07-01</td>\n",
       "      <td>NaT</td>\n",
       "      <td>Current</td>\n",
       "    </tr>\n",
       "  </tbody>\n",
       "</table>\n",
       "<p>1 rows × 36 columns</p>\n",
       "</div>"
      ],
      "text/plain": [
       "     ProductKey ProductAlternateKey  ProductSubcategoryKey  \\\n",
       "605         606          BK-R19B-52                    2.0   \n",
       "\n",
       "    WeightUnitMeasureCode SizeUnitMeasureCode  EnglishProductName  \\\n",
       "605                    LB                  CM  Road-750 Black, 52   \n",
       "\n",
       "            SpanishProductName           FrenchProductName  StandardCost  \\\n",
       "605  Carretera: 750, negra, 52  Vélo de route 750 noir, 52        343.65   \n",
       "\n",
       "     FinishedGoodsFlag  ...                 ChineseDescription  \\\n",
       "605                  1  ...  入门级成人自行车；确保越野旅行或公路骑乘的舒适。快拆式车毂和轮缘。   \n",
       "\n",
       "                                     ArabicDescription  \\\n",
       "605  إنها دراجة مناسبة للمبتدئين من البالغين؛ فهي ت...   \n",
       "\n",
       "                                     HebrewDescription  \\\n",
       "605  אופני מבוגרים למתחילים; מציעים רכיבה נוחה \"מחו...   \n",
       "\n",
       "                                       ThaiDescription  \\\n",
       "605  จักรยานระดับเริ่มต้นสำหรับผู้ใหญ่ ให้ความสบายใ...   \n",
       "\n",
       "                                     GermanDescription  \\\n",
       "605  Ein Erwachsenenrad für Einsteiger; bietet Komf...   \n",
       "\n",
       "                                   JapaneseDescription  \\\n",
       "605  エントリー レベルに対応する、クロスカントリーにも街への買い物にも快適な、大人の自転車。ハブ...   \n",
       "\n",
       "                                    TurkishDescription  StartDate EndDate  \\\n",
       "605  \"Başlangıç seviyesinde yetişkin bisikleti, kır... 2013-07-01     NaT   \n",
       "\n",
       "      Status  \n",
       "605  Current  \n",
       "\n",
       "[1 rows x 36 columns]"
      ]
     },
     "execution_count": 7,
     "metadata": {},
     "output_type": "execute_result"
    }
   ],
   "source": [
    "#stampiamo l'ultimo elemento\n",
    "#oppure si può scrivere anche in questa maniera\n",
    "#df.iloc[-1]\n",
    "\n",
    "df.tail(1)"
   ]
  },
  {
   "cell_type": "code",
   "execution_count": 8,
   "metadata": {},
   "outputs": [
    {
     "data": {
      "text/html": [
       "<div>\n",
       "<style scoped>\n",
       "    .dataframe tbody tr th:only-of-type {\n",
       "        vertical-align: middle;\n",
       "    }\n",
       "\n",
       "    .dataframe tbody tr th {\n",
       "        vertical-align: top;\n",
       "    }\n",
       "\n",
       "    .dataframe thead th {\n",
       "        text-align: right;\n",
       "    }\n",
       "</style>\n",
       "<table border=\"1\" class=\"dataframe\">\n",
       "  <thead>\n",
       "    <tr style=\"text-align: right;\">\n",
       "      <th></th>\n",
       "      <th>ProductKey</th>\n",
       "      <th>ProductAlternateKey</th>\n",
       "      <th>ProductSubcategoryKey</th>\n",
       "      <th>WeightUnitMeasureCode</th>\n",
       "      <th>SizeUnitMeasureCode</th>\n",
       "      <th>EnglishProductName</th>\n",
       "      <th>SpanishProductName</th>\n",
       "      <th>FrenchProductName</th>\n",
       "      <th>StandardCost</th>\n",
       "      <th>FinishedGoodsFlag</th>\n",
       "      <th>...</th>\n",
       "      <th>ChineseDescription</th>\n",
       "      <th>ArabicDescription</th>\n",
       "      <th>HebrewDescription</th>\n",
       "      <th>ThaiDescription</th>\n",
       "      <th>GermanDescription</th>\n",
       "      <th>JapaneseDescription</th>\n",
       "      <th>TurkishDescription</th>\n",
       "      <th>StartDate</th>\n",
       "      <th>EndDate</th>\n",
       "      <th>Status</th>\n",
       "    </tr>\n",
       "  </thead>\n",
       "  <tbody>\n",
       "    <tr>\n",
       "      <th>449</th>\n",
       "      <td>450</td>\n",
       "      <td>LT-T990</td>\n",
       "      <td>33.0</td>\n",
       "      <td>None</td>\n",
       "      <td>None</td>\n",
       "      <td>Taillights - Battery-Powered</td>\n",
       "      <td></td>\n",
       "      <td></td>\n",
       "      <td>5.77</td>\n",
       "      <td>1</td>\n",
       "      <td>...</td>\n",
       "      <td>价格适中的车灯，确保夜间骑乘安全 – 使用三节 AAA 电池</td>\n",
       "      <td>إضاءة ذات سعر منخفض للقيادة بشكل آمن ليلاً، تس...</td>\n",
       "      <td>תאורה במחיר סביר לרכיבה לילית בטוחה – פועלת בא...</td>\n",
       "      <td>ไฟราคาประหยัดสำหรับการขับขี่ยามค่ำคืนที่ปลอดภั...</td>\n",
       "      <td>Kostengünstiges Licht für sicheres Fahren bei ...</td>\n",
       "      <td>安全な夜間走行をサポートする低価格のライト (単 4 電池を 3 つ使用)。</td>\n",
       "      <td>\"Güvenli gece sürüşü için ekonomik far, 3 adet...</td>\n",
       "      <td>2012-07-01</td>\n",
       "      <td>2008-12-27</td>\n",
       "      <td>None</td>\n",
       "    </tr>\n",
       "    <tr>\n",
       "      <th>89</th>\n",
       "      <td>90</td>\n",
       "      <td>LE-8000</td>\n",
       "      <td>NaN</td>\n",
       "      <td>None</td>\n",
       "      <td>None</td>\n",
       "      <td>External Lock Washer 2</td>\n",
       "      <td></td>\n",
       "      <td></td>\n",
       "      <td>NaN</td>\n",
       "      <td>0</td>\n",
       "      <td>...</td>\n",
       "      <td>None</td>\n",
       "      <td>None</td>\n",
       "      <td>None</td>\n",
       "      <td>None</td>\n",
       "      <td>None</td>\n",
       "      <td>None</td>\n",
       "      <td>None</td>\n",
       "      <td>2003-07-01</td>\n",
       "      <td>NaT</td>\n",
       "      <td>Current</td>\n",
       "    </tr>\n",
       "    <tr>\n",
       "      <th>423</th>\n",
       "      <td>424</td>\n",
       "      <td>RW-R820</td>\n",
       "      <td>17.0</td>\n",
       "      <td>G</td>\n",
       "      <td>None</td>\n",
       "      <td>HL Road Rear Wheel</td>\n",
       "      <td>Rueda de carretera trasera GA</td>\n",
       "      <td>Roue arrière de vélo de route HL</td>\n",
       "      <td>158.53</td>\n",
       "      <td>1</td>\n",
       "      <td>...</td>\n",
       "      <td>具有双层轮缘的坚固后轮。</td>\n",
       "      <td>عجلة خلفية قوية بإطار معدني ذي طبقتين.</td>\n",
       "      <td>גלגל אחורי חזק עם חישוק בעל הלחמה כפולה.</td>\n",
       "      <td>ล้อหลังที่แข็งแกร่งพร้อมขอบล้อผนังสองชั้น</td>\n",
       "      <td>Starkes Hinterrad mit doppelt beschichteter Fe...</td>\n",
       "      <td>ダブルウォール リムを持つ頑丈なリア ホイール。</td>\n",
       "      <td>İki duvarlı jantlı güçlü arka tekerlek.</td>\n",
       "      <td>2012-07-01</td>\n",
       "      <td>2008-12-27</td>\n",
       "      <td>None</td>\n",
       "    </tr>\n",
       "    <tr>\n",
       "      <th>570</th>\n",
       "      <td>571</td>\n",
       "      <td>BK-T18Y-58</td>\n",
       "      <td>3.0</td>\n",
       "      <td>LB</td>\n",
       "      <td>CM</td>\n",
       "      <td>Touring-3000 Yellow, 58</td>\n",
       "      <td>Paseo: 3000, amarilla, 58</td>\n",
       "      <td>Vélo de randonnée 3000 jaune, 58</td>\n",
       "      <td>461.44</td>\n",
       "      <td>1</td>\n",
       "      <td>...</td>\n",
       "      <td>全能经济型自行车，具备基本的舒适和安全特征。提供了更宽也更稳固的轮胎，适用于环城游或周末旅行。</td>\n",
       "      <td>إنها دراجة قيّمة تصلح لكافة المناسبات وهي تشتم...</td>\n",
       "      <td>אופני איכות לכל מטרה עם תכונות הנוחות והבטיחות...</td>\n",
       "      <td>จักรยานอเนกประสงค์สุดคุ้ม พร้อมความสบายและความ...</td>\n",
       "      <td>\"Ein günstiges Allzweckfahrrad mit Basiskomfor...</td>\n",
       "      <td>ベーシックな快適性と安全性を備えた、多目的で手軽な自転車。街中での走行および週末の小旅行用に...</td>\n",
       "      <td>Temel konfor ve güvenlik özellikleriyle her ye...</td>\n",
       "      <td>2013-07-01</td>\n",
       "      <td>NaT</td>\n",
       "      <td>Current</td>\n",
       "    </tr>\n",
       "    <tr>\n",
       "      <th>381</th>\n",
       "      <td>382</td>\n",
       "      <td>BK-R64Y-38</td>\n",
       "      <td>2.0</td>\n",
       "      <td>LB</td>\n",
       "      <td>CM</td>\n",
       "      <td>Road-550-W Yellow, 38</td>\n",
       "      <td>Carretera: 550 para mujer, amarilla, 38</td>\n",
       "      <td>Vélo de route 550 -W - jaune, 38</td>\n",
       "      <td>713.08</td>\n",
       "      <td>1</td>\n",
       "      <td>...</td>\n",
       "      <td>使用的技术与我们所有的公路系列自行车完全相同，但车架尺寸专为女士设计。完美的全能自行车，可作...</td>\n",
       "      <td>ولها نفس التقنية المتوفرة في جميع دراجات سلسلة...</td>\n",
       "      <td>טכנולוגיה זהה לזו המצוי באופני סדרת \"כביש\" שלנ...</td>\n",
       "      <td>เทคโนโลยีเดียวกับจักรยานรุ่น Road ทั้งหมด แต่ใ...</td>\n",
       "      <td>Dieselbe Technologie wie bei allen Rädern unse...</td>\n",
       "      <td>ロード シリーズの自転車と同じ技術を使用した女性用サイズのフレームで、ロードにも競技にも適し...</td>\n",
       "      <td>\"Yol serisi bisikletlerimizle aynı teknoloji, ...</td>\n",
       "      <td>2013-07-01</td>\n",
       "      <td>NaT</td>\n",
       "      <td>Current</td>\n",
       "    </tr>\n",
       "  </tbody>\n",
       "</table>\n",
       "<p>5 rows × 36 columns</p>\n",
       "</div>"
      ],
      "text/plain": [
       "     ProductKey ProductAlternateKey  ProductSubcategoryKey  \\\n",
       "449         450             LT-T990                   33.0   \n",
       "89           90             LE-8000                    NaN   \n",
       "423         424             RW-R820                   17.0   \n",
       "570         571          BK-T18Y-58                    3.0   \n",
       "381         382          BK-R64Y-38                    2.0   \n",
       "\n",
       "    WeightUnitMeasureCode SizeUnitMeasureCode            EnglishProductName  \\\n",
       "449                  None                None  Taillights - Battery-Powered   \n",
       "89                   None                None        External Lock Washer 2   \n",
       "423                     G                None            HL Road Rear Wheel   \n",
       "570                    LB                  CM       Touring-3000 Yellow, 58   \n",
       "381                    LB                  CM         Road-550-W Yellow, 38   \n",
       "\n",
       "                          SpanishProductName  \\\n",
       "449                                            \n",
       "89                                             \n",
       "423            Rueda de carretera trasera GA   \n",
       "570                Paseo: 3000, amarilla, 58   \n",
       "381  Carretera: 550 para mujer, amarilla, 38   \n",
       "\n",
       "                    FrenchProductName  StandardCost  FinishedGoodsFlag  ...  \\\n",
       "449                                            5.77                  1  ...   \n",
       "89                                              NaN                  0  ...   \n",
       "423  Roue arrière de vélo de route HL        158.53                  1  ...   \n",
       "570  Vélo de randonnée 3000 jaune, 58        461.44                  1  ...   \n",
       "381  Vélo de route 550 -W - jaune, 38        713.08                  1  ...   \n",
       "\n",
       "                                    ChineseDescription  \\\n",
       "449                     价格适中的车灯，确保夜间骑乘安全 – 使用三节 AAA 电池   \n",
       "89                                                None   \n",
       "423                                       具有双层轮缘的坚固后轮。   \n",
       "570    全能经济型自行车，具备基本的舒适和安全特征。提供了更宽也更稳固的轮胎，适用于环城游或周末旅行。   \n",
       "381  使用的技术与我们所有的公路系列自行车完全相同，但车架尺寸专为女士设计。完美的全能自行车，可作...   \n",
       "\n",
       "                                     ArabicDescription  \\\n",
       "449  إضاءة ذات سعر منخفض للقيادة بشكل آمن ليلاً، تس...   \n",
       "89                                                None   \n",
       "423             عجلة خلفية قوية بإطار معدني ذي طبقتين.   \n",
       "570  إنها دراجة قيّمة تصلح لكافة المناسبات وهي تشتم...   \n",
       "381  ولها نفس التقنية المتوفرة في جميع دراجات سلسلة...   \n",
       "\n",
       "                                     HebrewDescription  \\\n",
       "449  תאורה במחיר סביר לרכיבה לילית בטוחה – פועלת בא...   \n",
       "89                                                None   \n",
       "423           גלגל אחורי חזק עם חישוק בעל הלחמה כפולה.   \n",
       "570  אופני איכות לכל מטרה עם תכונות הנוחות והבטיחות...   \n",
       "381  טכנולוגיה זהה לזו המצוי באופני סדרת \"כביש\" שלנ...   \n",
       "\n",
       "                                       ThaiDescription  \\\n",
       "449  ไฟราคาประหยัดสำหรับการขับขี่ยามค่ำคืนที่ปลอดภั...   \n",
       "89                                                None   \n",
       "423          ล้อหลังที่แข็งแกร่งพร้อมขอบล้อผนังสองชั้น   \n",
       "570  จักรยานอเนกประสงค์สุดคุ้ม พร้อมความสบายและความ...   \n",
       "381  เทคโนโลยีเดียวกับจักรยานรุ่น Road ทั้งหมด แต่ใ...   \n",
       "\n",
       "                                     GermanDescription  \\\n",
       "449  Kostengünstiges Licht für sicheres Fahren bei ...   \n",
       "89                                                None   \n",
       "423  Starkes Hinterrad mit doppelt beschichteter Fe...   \n",
       "570  \"Ein günstiges Allzweckfahrrad mit Basiskomfor...   \n",
       "381  Dieselbe Technologie wie bei allen Rädern unse...   \n",
       "\n",
       "                                   JapaneseDescription  \\\n",
       "449             安全な夜間走行をサポートする低価格のライト (単 4 電池を 3 つ使用)。   \n",
       "89                                                None   \n",
       "423                           ダブルウォール リムを持つ頑丈なリア ホイール。   \n",
       "570  ベーシックな快適性と安全性を備えた、多目的で手軽な自転車。街中での走行および週末の小旅行用に...   \n",
       "381  ロード シリーズの自転車と同じ技術を使用した女性用サイズのフレームで、ロードにも競技にも適し...   \n",
       "\n",
       "                                    TurkishDescription  StartDate    EndDate  \\\n",
       "449  \"Güvenli gece sürüşü için ekonomik far, 3 adet... 2012-07-01 2008-12-27   \n",
       "89                                                None 2003-07-01        NaT   \n",
       "423            İki duvarlı jantlı güçlü arka tekerlek. 2012-07-01 2008-12-27   \n",
       "570  Temel konfor ve güvenlik özellikleriyle her ye... 2013-07-01        NaT   \n",
       "381  \"Yol serisi bisikletlerimizle aynı teknoloji, ... 2013-07-01        NaT   \n",
       "\n",
       "      Status  \n",
       "449     None  \n",
       "89   Current  \n",
       "423     None  \n",
       "570  Current  \n",
       "381  Current  \n",
       "\n",
       "[5 rows x 36 columns]"
      ]
     },
     "execution_count": 8,
     "metadata": {},
     "output_type": "execute_result"
    }
   ],
   "source": [
    "#Riusciamo a stampare cinque elementi a caso?\n",
    "\n",
    "df.sample(5)  "
   ]
  },
  {
   "cell_type": "code",
   "execution_count": 9,
   "metadata": {},
   "outputs": [
    {
     "data": {
      "text/plain": [
       "array(['NA', 'Black', 'Silver', 'Red', 'White', 'Blue', 'Multi', 'Yellow',\n",
       "       'Grey', 'Silver/Black'], dtype=object)"
      ]
     },
     "execution_count": 9,
     "metadata": {},
     "output_type": "execute_result"
    }
   ],
   "source": [
    "#Quali sono i colori disponibili?\n",
    "\n",
    "df[\"Color\"].unique()"
   ]
  },
  {
   "cell_type": "code",
   "execution_count": 10,
   "metadata": {},
   "outputs": [],
   "source": [
    "#quando non ricordo il nome di una colonna ergo non so che colonne sono presenti nella tabella\n",
    "\n",
    "#df.info"
   ]
  },
  {
   "cell_type": "code",
   "execution_count": null,
   "metadata": {},
   "outputs": [],
   "source": [
    "#Esercizio 2/3 •\n",
    "# In media quanto pesano i prodotti?\n",
    "\n",
    "mean_weight= df[\"Weight\"].mean()\n",
    "\n",
    "print(mean_weight)"
   ]
  },
  {
   "cell_type": "code",
   "execution_count": 11,
   "metadata": {},
   "outputs": [
    {
     "data": {
      "text/plain": [
       "2.12"
      ]
     },
     "execution_count": 11,
     "metadata": {},
     "output_type": "execute_result"
    }
   ],
   "source": [
    "#Quanto pesa il più leggero?\n",
    "\n",
    "df[\"Weight\"].min()"
   ]
  },
  {
   "cell_type": "code",
   "execution_count": 12,
   "metadata": {},
   "outputs": [
    {
     "data": {
      "text/plain": [
       "1050.0"
      ]
     },
     "execution_count": 12,
     "metadata": {},
     "output_type": "execute_result"
    }
   ],
   "source": [
    "#Quanto pesa il più pesante?\n",
    "\n",
    "df[\"Weight\"].max()"
   ]
  },
  {
   "cell_type": "code",
   "execution_count": 13,
   "metadata": {},
   "outputs": [
    {
     "name": "stdout",
     "output_type": "stream",
     "text": [
      "Numero di prodotti che pesano più di 100 kg: 28\n"
     ]
    }
   ],
   "source": [
    "numero_prodotti_piu_di_100_kg = df[df['Weight'] > 100]\n",
    "\n",
    "numero_prodotti_piu_di_100_kg_count = numero_prodotti_piu_di_100_kg.shape[0]\n",
    "\n",
    "print(\"Numero di prodotti che pesano più di 100 kg:\", numero_prodotti_piu_di_100_kg_count)\n",
    "\n",
    "#restituisce effettivamente il totale presente sia nelle colonne che nelle righe, dei prodotti > 100 "
   ]
  },
  {
   "cell_type": "code",
   "execution_count": 14,
   "metadata": {},
   "outputs": [
    {
     "data": {
      "text/plain": [
       "448.5970597468353"
      ]
     },
     "execution_count": 14,
     "metadata": {},
     "output_type": "execute_result"
    }
   ],
   "source": [
    "#Quanto costano in media i prodotti\n",
    "\n",
    "df[\"DealerPrice\"].mean()"
   ]
  },
  {
   "cell_type": "code",
   "execution_count": 15,
   "metadata": {},
   "outputs": [
    {
     "data": {
      "text/plain": [
       "(722.5949, 2146.962)"
      ]
     },
     "execution_count": 15,
     "metadata": {},
     "output_type": "execute_result"
    }
   ],
   "source": [
    "#Se prendiamo un quarto di tutti i prodotti, in modo che siano i più costosi, quale sarà il loro range di prezzo?\n",
    "\n",
    "\n",
    "top_quarter =  df['DealerPrice'].quantile(0.75)   #0.75 = al 25% dei prodotti\n",
    "\n",
    "top_quarter_products = df[df['DealerPrice'] >= top_quarter ]\n",
    "\n",
    "top_quarter_products.head()\n",
    "\n",
    "price_range = top_quarter_products['DealerPrice'].min(), top_quarter_products['DealerPrice'].max()\n",
    "price_range"
   ]
  },
  {
   "cell_type": "code",
   "execution_count": 16,
   "metadata": {},
   "outputs": [
    {
     "name": "stdout",
     "output_type": "stream",
     "text": [
      "516.0631785714286\n"
     ]
    }
   ],
   "source": [
    "#Qual è il prezzo medio per i prodotti di colore blu?\n",
    "\n",
    "\n",
    "mean_price_blue = df[df[\"Color\"] == \"Blue\"] [\"DealerPrice\"].mean()\n",
    "\n",
    "print(mean_price_blue)"
   ]
  },
  {
   "cell_type": "code",
   "execution_count": 17,
   "metadata": {},
   "outputs": [
    {
     "name": "stdout",
     "output_type": "stream",
     "text": [
      "550.2481873684211\n"
     ]
    }
   ],
   "source": [
    "#Qual è il prezzo medio per i prodotti di colore rosso o nero?\n",
    "\n",
    "\n",
    "prodotti_blue_red = df[df['Color'].isin(['Black', 'Red'])] [\"DealerPrice\"].mean()\n",
    "\n",
    "print(prodotti_blue_red)"
   ]
  },
  {
   "cell_type": "code",
   "execution_count": 18,
   "metadata": {},
   "outputs": [
    {
     "name": "stdout",
     "output_type": "stream",
     "text": [
      "835.6834416666669\n"
     ]
    }
   ],
   "source": [
    "\n",
    "df_taglia =df[(df['Size']=='52') & (df['Weight'] > 10)][\"DealerPrice\"].mean()\n",
    "\n",
    "print(df_taglia)"
   ]
  },
  {
   "cell_type": "code",
   "execution_count": 19,
   "metadata": {},
   "outputs": [
    {
     "name": "stdout",
     "output_type": "stream",
     "text": [
      "          EnglishProductName  StandardCost\n",
      "594  Mountain-500 Silver, 52        308.22\n"
     ]
    }
   ],
   "source": [
    "#• Qual è il nome inglese e il costo di produzione (StandardCost) di tutti i prodotti di taglia 42, \n",
    "# peso oltre i 10 Kg e colore argento?\n",
    "\n",
    "df_taglia_color =df[(df['Size']=='52') & (df['Weight'] > 10) & (df['Color'] == \"Silver\")]\n",
    "\n",
    "risultato = df_taglia_color[[\"EnglishProductName\", \"StandardCost\"]]\n",
    "\n",
    "print(risultato)"
   ]
  },
  {
   "cell_type": "code",
   "execution_count": null,
   "metadata": {},
   "outputs": [],
   "source": [
    "#Esaminiamo la differenza tra lo StandardCost e il DealerPrice degli ultimi 20 elementi del dataset:\n",
    "#c'è un pattern? C'è qualche elemento che non lo segue?\n",
    "\n",
    "\n",
    "df['CostDifference'] =df['DealerPrice'] - df['StandardCost']\n",
    "\n",
    "#ultimi N valori del df\n",
    "df_last_20_elements = df.tail(20)\n",
    "\n",
    "pattern_check = df_last_20_elements[['EnglishProductName', 'StandardCost','DealerPrice','CostDifference']]\n",
    "\n",
    "print(pattern_check)\n",
    "\n",
    "#il pattern è una serie di algoritmi che possono ripetersi "
   ]
  }
 ],
 "metadata": {
  "kernelspec": {
   "display_name": "Python 3",
   "language": "python",
   "name": "python3"
  },
  "language_info": {
   "codemirror_mode": {
    "name": "ipython",
    "version": 3
   },
   "file_extension": ".py",
   "mimetype": "text/x-python",
   "name": "python",
   "nbconvert_exporter": "python",
   "pygments_lexer": "ipython3",
   "version": "3.12.3"
  }
 },
 "nbformat": 4,
 "nbformat_minor": 2
}
